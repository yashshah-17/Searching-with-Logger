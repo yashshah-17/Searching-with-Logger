{
 "cells": [
  {
   "cell_type": "code",
   "execution_count": null,
   "metadata": {},
   "outputs": [
    {
     "name": "stderr",
     "output_type": "stream",
     "text": [
      "C:\\Users\\admin\\Anaconda3\\lib\\site-packages\\ipykernel_launcher.py:21: DeprecationWarning: remove is deprecated. Use delete_one or delete_many instead.\n"
     ]
    }
   ],
   "source": [
    "# Importing the necessary packages\n",
    "import sys\n",
    "import pandas as pd\n",
    "import pymongo\n",
    "import json\n",
    "import os\n",
    "\n",
    "\n",
    "# Defining tables of the database\n",
    "def import_content1(filepath1):\n",
    "    mng_client = pymongo.MongoClient('localhost', 27017)\n",
    "    mng_db = mng_client['Assignment-3']\n",
    "    collection_name = 'Books'\n",
    "    db_cm = mng_db[collection_name]\n",
    "    cdir = os.path.dirname('__file__')\n",
    "    file_res = os.path.join(cdir, filepath1)\n",
    "    \n",
    "    fields = ['Title','Author']\n",
    "    data = pd.read_csv(file_res, usecols = fields)\n",
    "    data_json = json.loads(data.to_json(orient='records'))\n",
    "    db_cm.remove()\n",
    "    db_cm.insert(data_json)\n",
    "\n",
    "def import_content2(filepath2):\n",
    "    mng_client = pymongo.MongoClient('localhost', 27017)\n",
    "    mng_db = mng_client['Assignment-3']\n",
    "    collection_name = 'Timings'\n",
    "    db_cm = mng_db[collection_name]\n",
    "    cdir = os.path.dirname('__file__')\n",
    "    file_res = os.path.join(cdir, filepath2)\n",
    "    \n",
    "    fields = ['File_Name','Start','End']\n",
    "    data = pd.read_csv(file_res, usecols = fields)\n",
    "    data_json = json.loads(data.to_json(orient='records'))\n",
    "    db_cm.remove()\n",
    "    db_cm.insert(data_json)\n",
    "\n",
    "\n",
    "# Importing data from the csv files\n",
    "filepath1 = '/Users/admin/Downloads/Cloud Computing/Assignment-3/Books.csv' \n",
    "import_content1(filepath1)\n",
    "\n",
    "filepath2 = '/Users/admin/Downloads/Cloud Computing/Assignment-3/Timings.csv' \n",
    "import_content2(filepath2)"
   ]
  },
  {
   "cell_type": "code",
   "execution_count": null,
   "metadata": {},
   "outputs": [],
   "source": []
  }
 ],
 "metadata": {
  "kernelspec": {
   "display_name": "Python 3",
   "language": "python",
   "name": "python3"
  },
  "language_info": {
   "codemirror_mode": {
    "name": "ipython",
    "version": 3
   },
   "file_extension": ".py",
   "mimetype": "text/x-python",
   "name": "python",
   "nbconvert_exporter": "python",
   "pygments_lexer": "ipython3",
   "version": "3.6.4"
  }
 },
 "nbformat": 4,
 "nbformat_minor": 2
}
